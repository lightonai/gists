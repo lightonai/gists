{
 "cells": [
  {
   "cell_type": "markdown",
   "metadata": {},
   "source": [
    "# Crash Course: the Double Descent Curve with an OPU"
   ]
  },
  {
   "cell_type": "code",
   "execution_count": null,
   "metadata": {},
   "outputs": [],
   "source": [
    "import matplotlib.pyplot as plt\n",
    "import numpy as np\n",
    "from sklearn.linear_model import RidgeClassifier\n",
    "import torch\n",
    "import torch.nn as nn \n",
    "import torch.optim as optim\n",
    "import torchvision \n",
    "from tqdm.notebook import  tqdm \n",
    "\n",
    "from lightonopu import OPU"
   ]
  },
  {
   "cell_type": "markdown",
   "metadata": {},
   "source": [
    "### Learning a binary encoding\n",
    "\n",
    "Here we define the artchitecture for the autoencoder "
   ]
  },
  {
   "cell_type": "code",
   "execution_count": null,
   "metadata": {},
   "outputs": [],
   "source": [
    "class Autoencoder(nn.Module):\n",
    "    def __init__(self, kernel_depth=24, channel_input=1, kernel_size=6, stride=2, padding=2, beta=1.):\n",
    "        super(Autoencoder, self).__init__()\n",
    "        self.encoder = nn.Conv2d(channel_input, kernel_depth, kernel_size, stride, padding)\n",
    "        self.decoder = nn.ConvTranspose2d(kernel_depth, channel_input, kernel_size, stride, padding)\n",
    "        self.beta = beta\n",
    "        nn.init.xavier_uniform_(self.encoder.weight, gain=5 / 3)\n",
    "        nn.init.xavier_uniform_(self.decoder.weight, gain=5 / 3)\n",
    "\n",
    "    def forward(self, x):\n",
    "        h = torch.tanh(self.beta * self.encoder(x)) / self.beta\n",
    "        y = self.decoder(h)\n",
    "        return y\n",
    "\n",
    "    def encode(self, x):\n",
    "        h = (torch.sign(self.encoder(x)) + 1) / 2\n",
    "        return h"
   ]
  },
  {
   "cell_type": "code",
   "execution_count": null,
   "metadata": {},
   "outputs": [],
   "source": [
    "ae = Autoencoder()"
   ]
  },
  {
   "cell_type": "markdown",
   "metadata": {},
   "source": [
    "#### Training the autoencoder\n",
    "\n",
    "Now we download the data. To train the autoencoder we can use the full dataset. To recover the double descent curve \n",
    "we will use a subsample of it. "
   ]
  },
  {
   "cell_type": "code",
   "execution_count": null,
   "metadata": {},
   "outputs": [],
   "source": [
    "normalize = torchvision.transforms.Normalize((0.1307,), (0.3081,))\n",
    "transforms = torchvision.transforms.Compose([torchvision.transforms.ToTensor(), normalize])\n",
    "trainset = torchvision.datasets.MNIST(root='./data', train=True, download=True, transform=transforms)\n",
    "testset = torchvision.datasets.MNIST(root='./data', train=False, download=True, transform=transforms)\n",
    "\n",
    "# dataloader to train the AE \n",
    "mnist_dl_ae_train = torch.utils.data.DataLoader(trainset, batch_size=128, shuffle=True)\n",
    "# dataloader to extract test data\n",
    "mnist_dl_test = torch.utils.data.DataLoader(testset, batch_size=10000, shuffle=False)\n",
    "\n",
    "# dataloader to extract a sub sample of the training data\n",
    "indices = list(range(len(trainset)))\n",
    "np.random.seed(1234)\n",
    "np.random.shuffle(indices)\n",
    "train_idx = indices[:10000]\n",
    "train_sampler = torch.utils.data.SubsetRandomSampler(train_idx)\n",
    "mnist_dl_train = torch.utils.data.DataLoader(trainset, batch_size=10000, sampler=train_sampler)"
   ]
  },
  {
   "cell_type": "markdown",
   "metadata": {},
   "source": [
    "We train the autoencoder with the mean squared error loss. We double `beta` at each epoch of the training. "
   ]
  },
  {
   "cell_type": "code",
   "execution_count": null,
   "metadata": {},
   "outputs": [],
   "source": [
    "mse = nn.MSELoss()\n",
    "parameters = ae.parameters()\n",
    "optimizer = optim.Adam(params=parameters, lr=0.001)\n",
    "device = 'cuda' # 'cuda' to use the GPU for the training. \n",
    "ae = ae.to(device)\n",
    "n_epochs = 10\n",
    "\n",
    "for epoch in tqdm(range(n_epochs)):\n",
    "    \n",
    "    for i, (x, y) in enumerate(mnist_dl_ae_train):\n",
    "        optimizer.zero_grad()\n",
    "        x = x.to(device)\n",
    "        x_tilde = ae(x)\n",
    "        loss = mse(x_tilde, x) \n",
    "\n",
    "        loss.backward()\n",
    "        optimizer.step()\n",
    "        \n",
    "    ae.beta = ae.beta * 2 "
   ]
  },
  {
   "cell_type": "code",
   "execution_count": null,
   "metadata": {},
   "outputs": [],
   "source": [
    "X_train, y_train = iter(mnist_dl_train).next()\n",
    "X_test, y_test = iter(mnist_dl_test).next()"
   ]
  },
  {
   "cell_type": "code",
   "execution_count": null,
   "metadata": {},
   "outputs": [],
   "source": [
    "# Here we finally obtain the binary representation we seeked for our data. \n",
    "ae = ae.to('cpu')\n",
    "X_train_binary = ae.encode(X_train).view(X_train.shape[0],-1).detach()\n",
    "X_test_binary = ae.encode(X_test).view(X_test.shape[0],-1).detach()\n",
    "print(X_train_binary.shape, X_test_binary.shape)"
   ]
  },
  {
   "cell_type": "markdown",
   "metadata": {},
   "source": [
    "### Recover the double descent curve"
   ]
  },
  {
   "cell_type": "code",
   "execution_count": null,
   "metadata": {},
   "outputs": [],
   "source": [
    "# We chose the random projections we are going to use and we randomly project our data using the OPU\n",
    "uniform_sampling = [500 * k for k in range(4, 41)]\n",
    "interpolation_point_sampling =  [9250, 9750, 10250, 10750]\n",
    "rps_list = sorted(uniform_sampling + interpolation_point_sampling)\n",
    "max_rps = max(rps_list)\n",
    "\n",
    "opu = OPU(n_components=max_rps)\n",
    "with opu:\n",
    "    X_train_rf = opu.transform1d(X_train_binary.int())\n",
    "    X_test_rf = opu.transform1d(X_test_binary.int())"
   ]
  },
  {
   "cell_type": "code",
   "execution_count": null,
   "metadata": {},
   "outputs": [],
   "source": [
    "train_accuracy = np.zeros(len(rps_list))\n",
    "test_accuracy = np.zeros(len(rps_list))\n",
    "\n",
    "for i, rp in enumerate(tqdm(rps_list)):\n",
    "    clf = RidgeClassifier()\n",
    "    clf.fit(X_train_rf[:,:rp], y_train) \n",
    "    train_accuracy[i] = clf.score(X_train_rf[:,:rp], y_train)\n",
    "    test_accuracy[i] = clf.score(X_test_rf[:,:rp], y_test)"
   ]
  },
  {
   "cell_type": "code",
   "execution_count": null,
   "metadata": {},
   "outputs": [],
   "source": [
    "# ta da! \n",
    "plt.plot(rps_list, 1-train_accuracy, label='OPU training error')\n",
    "plt.plot(rps_list, 1-test_accuracy, label='OPU test error')\n",
    "plt.title('MNIST, subset of 10.000 samples')\n",
    "plt.ylabel('Error')\n",
    "plt.xlabel('Random features')\n",
    "plt.legend()\n",
    "plt.grid()\n",
    "plt.show()"
   ]
  }
 ],
 "metadata": {
  "kernelspec": {
   "display_name": "Python 3",
   "language": "python",
   "name": "python3"
  },
  "language_info": {
   "codemirror_mode": {
    "name": "ipython",
    "version": 3
   },
   "file_extension": ".py",
   "mimetype": "text/x-python",
   "name": "python",
   "nbconvert_exporter": "python",
   "pygments_lexer": "ipython3",
   "version": "3.7.6"
  }
 },
 "nbformat": 4,
 "nbformat_minor": 4
}
